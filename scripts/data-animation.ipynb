{
 "cells": [
  {
   "cell_type": "code",
   "execution_count": 1,
   "id": "dacc3c4d",
   "metadata": {
    "execution": {
     "iopub.execute_input": "2024-09-27T21:41:03.419141Z",
     "iopub.status.busy": "2024-09-27T21:41:03.418691Z",
     "iopub.status.idle": "2024-09-27T21:41:04.598482Z",
     "shell.execute_reply": "2024-09-27T21:41:04.597197Z"
    },
    "papermill": {
     "duration": 1.187926,
     "end_time": "2024-09-27T21:41:04.601356",
     "exception": false,
     "start_time": "2024-09-27T21:41:03.413430",
     "status": "completed"
    },
    "tags": []
   },
   "outputs": [
    {
     "data": {
      "text/html": [
       "<div>\n",
       "<style scoped>\n",
       "    .dataframe tbody tr th:only-of-type {\n",
       "        vertical-align: middle;\n",
       "    }\n",
       "\n",
       "    .dataframe tbody tr th {\n",
       "        vertical-align: top;\n",
       "    }\n",
       "\n",
       "    .dataframe thead th {\n",
       "        text-align: right;\n",
       "    }\n",
       "</style>\n",
       "<table border=\"1\" class=\"dataframe\">\n",
       "  <thead>\n",
       "    <tr style=\"text-align: right;\">\n",
       "      <th></th>\n",
       "      <th>id</th>\n",
       "      <th>u</th>\n",
       "      <th>alpha</th>\n",
       "      <th>Nt</th>\n",
       "      <th>Nx</th>\n",
       "      <th>Ny</th>\n",
       "      <th>theta_filename</th>\n",
       "      <th>ustar_filename</th>\n",
       "      <th>xi_filename</th>\n",
       "    </tr>\n",
       "  </thead>\n",
       "  <tbody>\n",
       "    <tr>\n",
       "      <th>0</th>\n",
       "      <td>804025</td>\n",
       "      <td>2</td>\n",
       "      <td>10</td>\n",
       "      <td>150</td>\n",
       "      <td>113</td>\n",
       "      <td>32</td>\n",
       "      <td>theta_K_id804025.dat</td>\n",
       "      <td>ustar_ms-1_id804025.dat</td>\n",
       "      <td>xi_id804025.dat</td>\n",
       "    </tr>\n",
       "    <tr>\n",
       "      <th>1</th>\n",
       "      <td>875935</td>\n",
       "      <td>2</td>\n",
       "      <td>5</td>\n",
       "      <td>150</td>\n",
       "      <td>113</td>\n",
       "      <td>32</td>\n",
       "      <td>theta_K_id875935.dat</td>\n",
       "      <td>ustar_ms-1_id875935.dat</td>\n",
       "      <td>xi_id875935.dat</td>\n",
       "    </tr>\n",
       "    <tr>\n",
       "      <th>2</th>\n",
       "      <td>930086</td>\n",
       "      <td>6</td>\n",
       "      <td>0</td>\n",
       "      <td>150</td>\n",
       "      <td>113</td>\n",
       "      <td>32</td>\n",
       "      <td>theta_K_id930086.dat</td>\n",
       "      <td>ustar_ms-1_id930086.dat</td>\n",
       "      <td>xi_id930086.dat</td>\n",
       "    </tr>\n",
       "    <tr>\n",
       "      <th>3</th>\n",
       "      <td>661713</td>\n",
       "      <td>4</td>\n",
       "      <td>5</td>\n",
       "      <td>150</td>\n",
       "      <td>113</td>\n",
       "      <td>32</td>\n",
       "      <td>theta_K_id661713.dat</td>\n",
       "      <td>ustar_ms-1_id661713.dat</td>\n",
       "      <td>xi_id661713.dat</td>\n",
       "    </tr>\n",
       "    <tr>\n",
       "      <th>4</th>\n",
       "      <td>633229</td>\n",
       "      <td>2</td>\n",
       "      <td>0</td>\n",
       "      <td>150</td>\n",
       "      <td>113</td>\n",
       "      <td>32</td>\n",
       "      <td>theta_K_id633229.dat</td>\n",
       "      <td>ustar_ms-1_id633229.dat</td>\n",
       "      <td>xi_id633229.dat</td>\n",
       "    </tr>\n",
       "  </tbody>\n",
       "</table>\n",
       "</div>"
      ],
      "text/plain": [
       "       id  u  alpha   Nt   Nx  Ny        theta_filename  \\\n",
       "0  804025  2     10  150  113  32  theta_K_id804025.dat   \n",
       "1  875935  2      5  150  113  32  theta_K_id875935.dat   \n",
       "2  930086  6      0  150  113  32  theta_K_id930086.dat   \n",
       "3  661713  4      5  150  113  32  theta_K_id661713.dat   \n",
       "4  633229  2      0  150  113  32  theta_K_id633229.dat   \n",
       "\n",
       "            ustar_filename      xi_filename  \n",
       "0  ustar_ms-1_id804025.dat  xi_id804025.dat  \n",
       "1  ustar_ms-1_id875935.dat  xi_id875935.dat  \n",
       "2  ustar_ms-1_id930086.dat  xi_id930086.dat  \n",
       "3  ustar_ms-1_id661713.dat  xi_id661713.dat  \n",
       "4  ustar_ms-1_id633229.dat  xi_id633229.dat  "
      ]
     },
     "execution_count": 1,
     "metadata": {},
     "output_type": "execute_result"
    }
   ],
   "source": [
    "import os\n",
    "import pandas as pd\n",
    "import numpy as np\n",
    "from matplotlib import pyplot as plt\n",
    "import imageio.v2 as imageio\n",
    "from tqdm.auto import tqdm\n",
    "from concurrent.futures import ProcessPoolExecutor\n",
    "\n",
    "input_path = '/kaggle/input/2024-flame-ai-challenge/dataset/'\n",
    "\n",
    "train_df = pd.read_csv(os.path.join(input_path,'train.csv'))\n",
    "train_df.head()"
   ]
  },
  {
   "cell_type": "code",
   "execution_count": 2,
   "id": "b41ba036",
   "metadata": {
    "execution": {
     "iopub.execute_input": "2024-09-27T21:41:04.610092Z",
     "iopub.status.busy": "2024-09-27T21:41:04.609680Z",
     "iopub.status.idle": "2024-09-27T21:41:04.731852Z",
     "shell.execute_reply": "2024-09-27T21:41:04.730594Z"
    },
    "papermill": {
     "duration": 0.129881,
     "end_time": "2024-09-27T21:41:04.734803",
     "exception": false,
     "start_time": "2024-09-27T21:41:04.604922",
     "status": "completed"
    },
    "tags": []
   },
   "outputs": [],
   "source": [
    "def load_dataX(idx):\n",
    "    csv_file = train_df.reset_index().to_dict(orient='list')\n",
    "    dir_path = os.path.join(input_path, \"train\")\n",
    "    id = csv_file['id'][idx]\n",
    "    nt, Nx, Ny = csv_file['Nt'][idx], csv_file['Nx'][idx], csv_file['Ny'][idx]\n",
    "    theta = np.fromfile(os.path.join(dir_path, csv_file['theta_filename'][idx]), dtype=\"<f4\").reshape(nt, Nx, Ny)\n",
    "    ustar = np.fromfile(os.path.join(dir_path, csv_file['ustar_filename'][idx]), dtype=\"<f4\").reshape(nt, Nx, Ny)\n",
    "    xi_f = np.fromfile(os.path.join(dir_path, csv_file['xi_filename'][idx]), dtype=\"<f4\").reshape(nt, Nx, Ny)\n",
    "    uin  = csv_file['u'][idx]\n",
    "    alpha = csv_file['alpha'][idx]\n",
    "\n",
    "    return theta, ustar, xi_f, uin, alpha\n",
    "\n",
    "idx = 0\n",
    "theta, ustar, xi_f, uin, alpha = load_dataX(idx)"
   ]
  },
  {
   "cell_type": "code",
   "execution_count": 3,
   "id": "1e819abf",
   "metadata": {
    "execution": {
     "iopub.execute_input": "2024-09-27T21:41:04.743545Z",
     "iopub.status.busy": "2024-09-27T21:41:04.743099Z",
     "iopub.status.idle": "2024-09-27T21:42:01.540853Z",
     "shell.execute_reply": "2024-09-27T21:42:01.539375Z"
    },
    "papermill": {
     "duration": 56.805473,
     "end_time": "2024-09-27T21:42:01.543980",
     "exception": false,
     "start_time": "2024-09-27T21:41:04.738507",
     "status": "completed"
    },
    "tags": []
   },
   "outputs": [
    {
     "data": {
      "application/vnd.jupyter.widget-view+json": {
       "model_id": "1eca714eee8f4333aa919198641424ec",
       "version_major": 2,
       "version_minor": 0
      },
      "text/plain": [
       "  0%|          | 0/150 [00:00<?, ?it/s]"
      ]
     },
     "metadata": {},
     "output_type": "display_data"
    },
    {
     "name": "stdout",
     "output_type": "stream",
     "text": [
      "Animation saved to ./data.gif\n"
     ]
    }
   ],
   "source": [
    "num_frames = theta.shape[0]\n",
    "output_path = \"./\"\n",
    "output_gif_path = os.path.join(output_path, \"data.gif\")\n",
    "\n",
    "min_theta = np.min(theta)\n",
    "max_theta = np.max(theta)\n",
    "\n",
    "min_ustar = np.min(ustar)\n",
    "max_ustar = np.max(ustar)\n",
    "\n",
    "min_xi_f = np.min(xi_f)\n",
    "max_xi_f = np.max(xi_f)\n",
    "\n",
    "def create_frame(frame):\n",
    "    fig, axs = plt.subplots(3, 1, figsize=(10, 8))\n",
    "    \n",
    "    im0 = axs[0].imshow(theta[frame].T, cmap='inferno', vmin=min_theta, vmax=max_theta)\n",
    "    axs[0].set_title('theta')\n",
    "    plt.colorbar(im0, ax=axs[0], orientation='horizontal')\n",
    "\n",
    "    im1 = axs[1].imshow(ustar[frame].T, cmap='viridis', vmin=min_ustar, vmax=max_ustar)\n",
    "    axs[1].set_title('ustar')\n",
    "    plt.colorbar(im1, ax=axs[1], orientation='horizontal')\n",
    "\n",
    "    im2 = axs[2].imshow(xi_f[frame].T, vmin=min_xi_f, vmax=max_xi_f, cmap='cividis')\n",
    "    axs[2].set_title('xi_f')\n",
    "    plt.colorbar(im2, ax=axs[2], orientation='horizontal')\n",
    "    \n",
    "    for ax in axs:\n",
    "        ax.axis('off')\n",
    "        \n",
    "    plt.tight_layout()\n",
    "    filename = f\"temp_frame_{frame}.png\"\n",
    "    plt.savefig(filename)\n",
    "    plt.close(fig)\n",
    "    \n",
    "    return filename\n",
    "\n",
    "with ProcessPoolExecutor() as executor:\n",
    "    frame_files = list(tqdm(executor.map(create_frame, range(num_frames)),total=num_frames))\n",
    "\n",
    "frames = [imageio.imread(frame_file) for frame_file in frame_files]\n",
    "imageio.mimsave(output_gif_path, frames, duration=0.1, loop=0)\n",
    "\n",
    "for frame_file in frame_files:\n",
    "    os.remove(frame_file)\n",
    "\n",
    "print(f\"Animation saved to {output_gif_path}\")"
   ]
  },
  {
   "cell_type": "code",
   "execution_count": 4,
   "id": "c2ed94d2",
   "metadata": {
    "execution": {
     "iopub.execute_input": "2024-09-27T21:42:01.554203Z",
     "iopub.status.busy": "2024-09-27T21:42:01.553738Z",
     "iopub.status.idle": "2024-09-27T21:42:01.562162Z",
     "shell.execute_reply": "2024-09-27T21:42:01.561050Z"
    },
    "papermill": {
     "duration": 0.016218,
     "end_time": "2024-09-27T21:42:01.564677",
     "exception": false,
     "start_time": "2024-09-27T21:42:01.548459",
     "status": "completed"
    },
    "tags": []
   },
   "outputs": [
    {
     "data": {
      "text/html": [
       "<img src=\"./data.gif\" />"
      ],
      "text/plain": [
       "<IPython.core.display.HTML object>"
      ]
     },
     "execution_count": 4,
     "metadata": {},
     "output_type": "execute_result"
    }
   ],
   "source": [
    "from IPython.display import HTML\n",
    "HTML('<img src=\"./data.gif\" />')"
   ]
  },
  {
   "cell_type": "code",
   "execution_count": null,
   "id": "ee2ea890",
   "metadata": {
    "papermill": {
     "duration": 0.003419,
     "end_time": "2024-09-27T21:42:01.571936",
     "exception": false,
     "start_time": "2024-09-27T21:42:01.568517",
     "status": "completed"
    },
    "tags": []
   },
   "outputs": [],
   "source": []
  }
 ],
 "metadata": {
  "kaggle": {
   "accelerator": "none",
   "dataSources": [
    {
     "databundleVersionId": 9672652,
     "sourceId": 85210,
     "sourceType": "competition"
    }
   ],
   "dockerImageVersionId": 30775,
   "isGpuEnabled": false,
   "isInternetEnabled": true,
   "language": "python",
   "sourceType": "notebook"
  },
  "kernelspec": {
   "display_name": "Python 3",
   "language": "python",
   "name": "python3"
  },
  "language_info": {
   "codemirror_mode": {
    "name": "ipython",
    "version": 3
   },
   "file_extension": ".py",
   "mimetype": "text/x-python",
   "name": "python",
   "nbconvert_exporter": "python",
   "pygments_lexer": "ipython3",
   "version": "3.10.14"
  },
  "papermill": {
   "default_parameters": {},
   "duration": 61.868075,
   "end_time": "2024-09-27T21:42:02.198043",
   "environment_variables": {},
   "exception": null,
   "input_path": "__notebook__.ipynb",
   "output_path": "__notebook__.ipynb",
   "parameters": {},
   "start_time": "2024-09-27T21:41:00.329968",
   "version": "2.6.0"
  },
  "widgets": {
   "application/vnd.jupyter.widget-state+json": {
    "state": {
     "1427abd7627d43528b2dadc5e6993175": {
      "model_module": "@jupyter-widgets/controls",
      "model_module_version": "1.5.0",
      "model_name": "ProgressStyleModel",
      "state": {
       "_model_module": "@jupyter-widgets/controls",
       "_model_module_version": "1.5.0",
       "_model_name": "ProgressStyleModel",
       "_view_count": null,
       "_view_module": "@jupyter-widgets/base",
       "_view_module_version": "1.2.0",
       "_view_name": "StyleView",
       "bar_color": null,
       "description_width": ""
      }
     },
     "1eca714eee8f4333aa919198641424ec": {
      "model_module": "@jupyter-widgets/controls",
      "model_module_version": "1.5.0",
      "model_name": "HBoxModel",
      "state": {
       "_dom_classes": [],
       "_model_module": "@jupyter-widgets/controls",
       "_model_module_version": "1.5.0",
       "_model_name": "HBoxModel",
       "_view_count": null,
       "_view_module": "@jupyter-widgets/controls",
       "_view_module_version": "1.5.0",
       "_view_name": "HBoxView",
       "box_style": "",
       "children": [
        "IPY_MODEL_741d4230f32a45b79d76294cf7f140fb",
        "IPY_MODEL_54a649bb19bb47a2824ff1943e0ba004",
        "IPY_MODEL_de122363cdad4abe8526209125138f7c"
       ],
       "layout": "IPY_MODEL_2331fcd5c71648a48720a137d62b2a4a"
      }
     },
     "2331fcd5c71648a48720a137d62b2a4a": {
      "model_module": "@jupyter-widgets/base",
      "model_module_version": "1.2.0",
      "model_name": "LayoutModel",
      "state": {
       "_model_module": "@jupyter-widgets/base",
       "_model_module_version": "1.2.0",
       "_model_name": "LayoutModel",
       "_view_count": null,
       "_view_module": "@jupyter-widgets/base",
       "_view_module_version": "1.2.0",
       "_view_name": "LayoutView",
       "align_content": null,
       "align_items": null,
       "align_self": null,
       "border": null,
       "bottom": null,
       "display": null,
       "flex": null,
       "flex_flow": null,
       "grid_area": null,
       "grid_auto_columns": null,
       "grid_auto_flow": null,
       "grid_auto_rows": null,
       "grid_column": null,
       "grid_gap": null,
       "grid_row": null,
       "grid_template_areas": null,
       "grid_template_columns": null,
       "grid_template_rows": null,
       "height": null,
       "justify_content": null,
       "justify_items": null,
       "left": null,
       "margin": null,
       "max_height": null,
       "max_width": null,
       "min_height": null,
       "min_width": null,
       "object_fit": null,
       "object_position": null,
       "order": null,
       "overflow": null,
       "overflow_x": null,
       "overflow_y": null,
       "padding": null,
       "right": null,
       "top": null,
       "visibility": null,
       "width": null
      }
     },
     "3855d8cba9bb45cdb4515412b19a3ab5": {
      "model_module": "@jupyter-widgets/controls",
      "model_module_version": "1.5.0",
      "model_name": "DescriptionStyleModel",
      "state": {
       "_model_module": "@jupyter-widgets/controls",
       "_model_module_version": "1.5.0",
       "_model_name": "DescriptionStyleModel",
       "_view_count": null,
       "_view_module": "@jupyter-widgets/base",
       "_view_module_version": "1.2.0",
       "_view_name": "StyleView",
       "description_width": ""
      }
     },
     "54a649bb19bb47a2824ff1943e0ba004": {
      "model_module": "@jupyter-widgets/controls",
      "model_module_version": "1.5.0",
      "model_name": "FloatProgressModel",
      "state": {
       "_dom_classes": [],
       "_model_module": "@jupyter-widgets/controls",
       "_model_module_version": "1.5.0",
       "_model_name": "FloatProgressModel",
       "_view_count": null,
       "_view_module": "@jupyter-widgets/controls",
       "_view_module_version": "1.5.0",
       "_view_name": "ProgressView",
       "bar_style": "success",
       "description": "",
       "description_tooltip": null,
       "layout": "IPY_MODEL_7490490cb1b9414e89305570fed17da5",
       "max": 150.0,
       "min": 0.0,
       "orientation": "horizontal",
       "style": "IPY_MODEL_1427abd7627d43528b2dadc5e6993175",
       "value": 150.0
      }
     },
     "741d4230f32a45b79d76294cf7f140fb": {
      "model_module": "@jupyter-widgets/controls",
      "model_module_version": "1.5.0",
      "model_name": "HTMLModel",
      "state": {
       "_dom_classes": [],
       "_model_module": "@jupyter-widgets/controls",
       "_model_module_version": "1.5.0",
       "_model_name": "HTMLModel",
       "_view_count": null,
       "_view_module": "@jupyter-widgets/controls",
       "_view_module_version": "1.5.0",
       "_view_name": "HTMLView",
       "description": "",
       "description_tooltip": null,
       "layout": "IPY_MODEL_b694b21c39954fd79b9391b1c844dd6b",
       "placeholder": "​",
       "style": "IPY_MODEL_3855d8cba9bb45cdb4515412b19a3ab5",
       "value": "100%"
      }
     },
     "7490490cb1b9414e89305570fed17da5": {
      "model_module": "@jupyter-widgets/base",
      "model_module_version": "1.2.0",
      "model_name": "LayoutModel",
      "state": {
       "_model_module": "@jupyter-widgets/base",
       "_model_module_version": "1.2.0",
       "_model_name": "LayoutModel",
       "_view_count": null,
       "_view_module": "@jupyter-widgets/base",
       "_view_module_version": "1.2.0",
       "_view_name": "LayoutView",
       "align_content": null,
       "align_items": null,
       "align_self": null,
       "border": null,
       "bottom": null,
       "display": null,
       "flex": null,
       "flex_flow": null,
       "grid_area": null,
       "grid_auto_columns": null,
       "grid_auto_flow": null,
       "grid_auto_rows": null,
       "grid_column": null,
       "grid_gap": null,
       "grid_row": null,
       "grid_template_areas": null,
       "grid_template_columns": null,
       "grid_template_rows": null,
       "height": null,
       "justify_content": null,
       "justify_items": null,
       "left": null,
       "margin": null,
       "max_height": null,
       "max_width": null,
       "min_height": null,
       "min_width": null,
       "object_fit": null,
       "object_position": null,
       "order": null,
       "overflow": null,
       "overflow_x": null,
       "overflow_y": null,
       "padding": null,
       "right": null,
       "top": null,
       "visibility": null,
       "width": null
      }
     },
     "7dad0161e1464929912016a1ae32ec4b": {
      "model_module": "@jupyter-widgets/base",
      "model_module_version": "1.2.0",
      "model_name": "LayoutModel",
      "state": {
       "_model_module": "@jupyter-widgets/base",
       "_model_module_version": "1.2.0",
       "_model_name": "LayoutModel",
       "_view_count": null,
       "_view_module": "@jupyter-widgets/base",
       "_view_module_version": "1.2.0",
       "_view_name": "LayoutView",
       "align_content": null,
       "align_items": null,
       "align_self": null,
       "border": null,
       "bottom": null,
       "display": null,
       "flex": null,
       "flex_flow": null,
       "grid_area": null,
       "grid_auto_columns": null,
       "grid_auto_flow": null,
       "grid_auto_rows": null,
       "grid_column": null,
       "grid_gap": null,
       "grid_row": null,
       "grid_template_areas": null,
       "grid_template_columns": null,
       "grid_template_rows": null,
       "height": null,
       "justify_content": null,
       "justify_items": null,
       "left": null,
       "margin": null,
       "max_height": null,
       "max_width": null,
       "min_height": null,
       "min_width": null,
       "object_fit": null,
       "object_position": null,
       "order": null,
       "overflow": null,
       "overflow_x": null,
       "overflow_y": null,
       "padding": null,
       "right": null,
       "top": null,
       "visibility": null,
       "width": null
      }
     },
     "b1fa7a05e04848759b5cf7bfbaf11971": {
      "model_module": "@jupyter-widgets/controls",
      "model_module_version": "1.5.0",
      "model_name": "DescriptionStyleModel",
      "state": {
       "_model_module": "@jupyter-widgets/controls",
       "_model_module_version": "1.5.0",
       "_model_name": "DescriptionStyleModel",
       "_view_count": null,
       "_view_module": "@jupyter-widgets/base",
       "_view_module_version": "1.2.0",
       "_view_name": "StyleView",
       "description_width": ""
      }
     },
     "b694b21c39954fd79b9391b1c844dd6b": {
      "model_module": "@jupyter-widgets/base",
      "model_module_version": "1.2.0",
      "model_name": "LayoutModel",
      "state": {
       "_model_module": "@jupyter-widgets/base",
       "_model_module_version": "1.2.0",
       "_model_name": "LayoutModel",
       "_view_count": null,
       "_view_module": "@jupyter-widgets/base",
       "_view_module_version": "1.2.0",
       "_view_name": "LayoutView",
       "align_content": null,
       "align_items": null,
       "align_self": null,
       "border": null,
       "bottom": null,
       "display": null,
       "flex": null,
       "flex_flow": null,
       "grid_area": null,
       "grid_auto_columns": null,
       "grid_auto_flow": null,
       "grid_auto_rows": null,
       "grid_column": null,
       "grid_gap": null,
       "grid_row": null,
       "grid_template_areas": null,
       "grid_template_columns": null,
       "grid_template_rows": null,
       "height": null,
       "justify_content": null,
       "justify_items": null,
       "left": null,
       "margin": null,
       "max_height": null,
       "max_width": null,
       "min_height": null,
       "min_width": null,
       "object_fit": null,
       "object_position": null,
       "order": null,
       "overflow": null,
       "overflow_x": null,
       "overflow_y": null,
       "padding": null,
       "right": null,
       "top": null,
       "visibility": null,
       "width": null
      }
     },
     "de122363cdad4abe8526209125138f7c": {
      "model_module": "@jupyter-widgets/controls",
      "model_module_version": "1.5.0",
      "model_name": "HTMLModel",
      "state": {
       "_dom_classes": [],
       "_model_module": "@jupyter-widgets/controls",
       "_model_module_version": "1.5.0",
       "_model_name": "HTMLModel",
       "_view_count": null,
       "_view_module": "@jupyter-widgets/controls",
       "_view_module_version": "1.5.0",
       "_view_name": "HTMLView",
       "description": "",
       "description_tooltip": null,
       "layout": "IPY_MODEL_7dad0161e1464929912016a1ae32ec4b",
       "placeholder": "​",
       "style": "IPY_MODEL_b1fa7a05e04848759b5cf7bfbaf11971",
       "value": " 150/150 [00:46&lt;00:00,  3.41it/s]"
      }
     }
    },
    "version_major": 2,
    "version_minor": 0
   }
  }
 },
 "nbformat": 4,
 "nbformat_minor": 5
}
